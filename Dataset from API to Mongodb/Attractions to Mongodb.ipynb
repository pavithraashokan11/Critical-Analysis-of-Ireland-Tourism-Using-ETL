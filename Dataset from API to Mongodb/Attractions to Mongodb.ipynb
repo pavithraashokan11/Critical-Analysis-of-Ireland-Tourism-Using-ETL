{
 "cells": [
  {
   "cell_type": "code",
   "execution_count": 1,
   "id": "1c794669",
   "metadata": {},
   "outputs": [],
   "source": [
    "import requests"
   ]
  },
  {
   "cell_type": "code",
   "execution_count": 2,
   "id": "0e5fc9b3",
   "metadata": {},
   "outputs": [],
   "source": [
    "url=\"https://failteireland.azure-api.net/opendata-api/v1/attractions\""
   ]
  },
  {
   "cell_type": "code",
   "execution_count": 3,
   "id": "82d271bd",
   "metadata": {},
   "outputs": [],
   "source": [
    "r= requests.get(url)"
   ]
  },
  {
   "cell_type": "code",
   "execution_count": 4,
   "id": "0d2ea6d6",
   "metadata": {},
   "outputs": [
    {
     "name": "stdout",
     "output_type": "stream",
     "text": [
      "<Response [200]>\n"
     ]
    }
   ],
   "source": [
    "print(r)"
   ]
  },
  {
   "cell_type": "code",
   "execution_count": null,
   "id": "e4fb26b2",
   "metadata": {},
   "outputs": [],
   "source": []
  },
  {
   "cell_type": "code",
   "execution_count": 5,
   "id": "d53f745d",
   "metadata": {},
   "outputs": [],
   "source": [
    "data= r.json()"
   ]
  },
  {
   "cell_type": "code",
   "execution_count": 6,
   "id": "3cf7d8ee",
   "metadata": {},
   "outputs": [
    {
     "name": "stdout",
     "output_type": "stream",
     "text": [
      "1570\n"
     ]
    }
   ],
   "source": [
    "countt=data['count']\n",
    "print(countt)"
   ]
  },
  {
   "cell_type": "code",
   "execution_count": 7,
   "id": "75ef35a0",
   "metadata": {},
   "outputs": [
    {
     "name": "stdout",
     "output_type": "stream",
     "text": [
      "https://failteireland.azure-api.net/opendata-api/v1/attractions?subscription-key=&search=*&$skip=50\n"
     ]
    }
   ],
   "source": [
    "next = data['nextPage']\n",
    "print(next)"
   ]
  },
  {
   "cell_type": "code",
   "execution_count": null,
   "id": "30cb25d8",
   "metadata": {},
   "outputs": [],
   "source": []
  },
  {
   "cell_type": "code",
   "execution_count": 8,
   "id": "154294ed",
   "metadata": {
    "scrolled": true
   },
   "outputs": [
    {
     "name": "stdout",
     "output_type": "stream",
     "text": [
      "reuesting url https://failteireland.azure-api.net/opendata-api/v1/attractions?subscription-key=&search=*&$skip=0\n",
      "<Response [200]>\n",
      "reuesting url https://failteireland.azure-api.net/opendata-api/v1/attractions?subscription-key=&search=*&$skip=50\n",
      "<Response [200]>\n",
      "reuesting url https://failteireland.azure-api.net/opendata-api/v1/attractions?subscription-key=&search=*&$skip=100\n",
      "<Response [200]>\n",
      "reuesting url https://failteireland.azure-api.net/opendata-api/v1/attractions?subscription-key=&search=*&$skip=150\n",
      "<Response [200]>\n",
      "reuesting url https://failteireland.azure-api.net/opendata-api/v1/attractions?subscription-key=&search=*&$skip=200\n",
      "<Response [200]>\n",
      "reuesting url https://failteireland.azure-api.net/opendata-api/v1/attractions?subscription-key=&search=*&$skip=250\n",
      "<Response [200]>\n",
      "reuesting url https://failteireland.azure-api.net/opendata-api/v1/attractions?subscription-key=&search=*&$skip=300\n",
      "<Response [200]>\n",
      "reuesting url https://failteireland.azure-api.net/opendata-api/v1/attractions?subscription-key=&search=*&$skip=350\n",
      "<Response [200]>\n",
      "reuesting url https://failteireland.azure-api.net/opendata-api/v1/attractions?subscription-key=&search=*&$skip=400\n",
      "<Response [200]>\n",
      "reuesting url https://failteireland.azure-api.net/opendata-api/v1/attractions?subscription-key=&search=*&$skip=450\n",
      "<Response [200]>\n"
     ]
    }
   ],
   "source": [
    "import time\n",
    "\n",
    "\n",
    "att=[]\n",
    "for limit in range(0,500,50):\n",
    "    \n",
    "    \n",
    "    url=f\"https://failteireland.azure-api.net/opendata-api/v1/attractions?subscription-key=&search=*&$skip={limit}\"\n",
    "    \n",
    "    print(\"reuesting url\",url)\n",
    "    response= requests.get(url)\n",
    "    print(response)\n",
    "    data=response.json()\n",
    "    time.sleep(5)\n",
    "    att.extend(data['results'])\n",
    "    \n",
    "     \n",
    "\n"
   ]
  },
  {
   "cell_type": "code",
   "execution_count": 9,
   "id": "6da1778f",
   "metadata": {},
   "outputs": [
    {
     "data": {
      "text/plain": [
       "500"
      ]
     },
     "execution_count": 9,
     "metadata": {},
     "output_type": "execute_result"
    }
   ],
   "source": [
    "len(att)\n",
    "    "
   ]
  },
  {
   "cell_type": "code",
   "execution_count": 10,
   "id": "68fc8caa",
   "metadata": {},
   "outputs": [
    {
     "name": "stdout",
     "output_type": "stream",
     "text": [
      "reuesting url https://failteireland.azure-api.net/opendata-api/v1/attractions?subscription-key=&search=*&$skip=1000\n",
      "reuesting url https://failteireland.azure-api.net/opendata-api/v1/attractions?subscription-key=&search=*&$skip=1050\n",
      "reuesting url https://failteireland.azure-api.net/opendata-api/v1/attractions?subscription-key=&search=*&$skip=1100\n",
      "reuesting url https://failteireland.azure-api.net/opendata-api/v1/attractions?subscription-key=&search=*&$skip=1150\n",
      "reuesting url https://failteireland.azure-api.net/opendata-api/v1/attractions?subscription-key=&search=*&$skip=1200\n",
      "reuesting url https://failteireland.azure-api.net/opendata-api/v1/attractions?subscription-key=&search=*&$skip=1250\n",
      "reuesting url https://failteireland.azure-api.net/opendata-api/v1/attractions?subscription-key=&search=*&$skip=1300\n",
      "reuesting url https://failteireland.azure-api.net/opendata-api/v1/attractions?subscription-key=&search=*&$skip=1350\n",
      "reuesting url https://failteireland.azure-api.net/opendata-api/v1/attractions?subscription-key=&search=*&$skip=1400\n",
      "reuesting url https://failteireland.azure-api.net/opendata-api/v1/attractions?subscription-key=&search=*&$skip=1450\n"
     ]
    }
   ],
   "source": [
    "import time\n",
    "time.sleep(5)\n",
    "for limit in range(1000,1500,50):\n",
    "    \n",
    "    \n",
    "    url=f\"https://failteireland.azure-api.net/opendata-api/v1/attractions?subscription-key=&search=*&$skip={limit}\"\n",
    "    \n",
    "    print(\"reuesting url\",url)\n",
    "    response= requests.get(url)\n",
    "    data=response.json()\n",
    "    time.sleep(5)\n",
    "    att.extend(data['results'])\n",
    " "
   ]
  },
  {
   "cell_type": "code",
   "execution_count": 11,
   "id": "96c887d3",
   "metadata": {},
   "outputs": [
    {
     "data": {
      "text/plain": [
       "1000"
      ]
     },
     "execution_count": 11,
     "metadata": {},
     "output_type": "execute_result"
    }
   ],
   "source": [
    "len(att)\n",
    "    "
   ]
  },
  {
   "cell_type": "code",
   "execution_count": 12,
   "id": "fd9984a9",
   "metadata": {},
   "outputs": [
    {
     "name": "stdout",
     "output_type": "stream",
     "text": [
      "reuesting url https://failteireland.azure-api.net/opendata-api/v1/attractions?subscription-key=&search=*&$skip=500\n",
      "reuesting url https://failteireland.azure-api.net/opendata-api/v1/attractions?subscription-key=&search=*&$skip=550\n",
      "reuesting url https://failteireland.azure-api.net/opendata-api/v1/attractions?subscription-key=&search=*&$skip=600\n",
      "reuesting url https://failteireland.azure-api.net/opendata-api/v1/attractions?subscription-key=&search=*&$skip=650\n",
      "reuesting url https://failteireland.azure-api.net/opendata-api/v1/attractions?subscription-key=&search=*&$skip=700\n"
     ]
    }
   ],
   "source": [
    "import time\n",
    "time.sleep(10)\n",
    "for limit in range(500,750,50):\n",
    "    \n",
    "    \n",
    "    url=f\"https://failteireland.azure-api.net/opendata-api/v1/attractions?subscription-key=&search=*&$skip={limit}\"\n",
    "    \n",
    "    print(\"reuesting url\",url)\n",
    "    response= requests.get(url)\n",
    "    data=response.json()\n",
    "    time.sleep(5)\n",
    "    att.extend(data['results'])\n",
    "    \n",
    "\n"
   ]
  },
  {
   "cell_type": "code",
   "execution_count": 13,
   "id": "35e1b771",
   "metadata": {},
   "outputs": [
    {
     "data": {
      "text/plain": [
       "1250"
      ]
     },
     "execution_count": 13,
     "metadata": {},
     "output_type": "execute_result"
    }
   ],
   "source": [
    "len(att)\n",
    "    "
   ]
  },
  {
   "cell_type": "code",
   "execution_count": 14,
   "id": "a2381ee4",
   "metadata": {},
   "outputs": [
    {
     "name": "stdout",
     "output_type": "stream",
     "text": [
      "reuesting url https://failteireland.azure-api.net/opendata-api/v1/attractions?subscription-key=&search=*&$skip=800\n",
      "reuesting url https://failteireland.azure-api.net/opendata-api/v1/attractions?subscription-key=&search=*&$skip=850\n",
      "reuesting url https://failteireland.azure-api.net/opendata-api/v1/attractions?subscription-key=&search=*&$skip=900\n",
      "reuesting url https://failteireland.azure-api.net/opendata-api/v1/attractions?subscription-key=&search=*&$skip=950\n"
     ]
    }
   ],
   "source": [
    "import time\n",
    "time.sleep(10)\n",
    "for limit in range(800,1000,50):\n",
    "    \n",
    "    \n",
    "    url=f\"https://failteireland.azure-api.net/opendata-api/v1/attractions?subscription-key=&search=*&$skip={limit}\"\n",
    "    \n",
    "    print(\"reuesting url\",url)\n",
    "    response= requests.get(url)\n",
    "    data=response.json()\n",
    "    time.sleep(5)\n",
    "    att.extend(data['results'])\n",
    "    "
   ]
  },
  {
   "cell_type": "code",
   "execution_count": 15,
   "id": "16813f13",
   "metadata": {},
   "outputs": [
    {
     "data": {
      "text/plain": [
       "1450"
      ]
     },
     "execution_count": 15,
     "metadata": {},
     "output_type": "execute_result"
    }
   ],
   "source": [
    "len(att)\n",
    "    "
   ]
  },
  {
   "cell_type": "code",
   "execution_count": 16,
   "id": "5a063c91",
   "metadata": {},
   "outputs": [
    {
     "name": "stdout",
     "output_type": "stream",
     "text": [
      "reuesting url https://failteireland.azure-api.net/opendata-api/v1/attractions?subscription-key=&search=*&$skip=1500\n",
      "reuesting url https://failteireland.azure-api.net/opendata-api/v1/attractions?subscription-key=&search=*&$skip=1550\n"
     ]
    }
   ],
   "source": [
    "import time\n",
    "time.sleep(5)\n",
    "for limit in range(1500,1570,50):\n",
    "    \n",
    "    \n",
    "    url=f\"https://failteireland.azure-api.net/opendata-api/v1/attractions?subscription-key=&search=*&$skip={limit}\"\n",
    "    \n",
    "    print(\"reuesting url\",url)\n",
    "    response= requests.get(url)\n",
    "    data=response.json()\n",
    "    att.extend(data['results'])"
   ]
  },
  {
   "cell_type": "code",
   "execution_count": 17,
   "id": "b308df80",
   "metadata": {},
   "outputs": [
    {
     "data": {
      "text/plain": [
       "1520"
      ]
     },
     "execution_count": 17,
     "metadata": {},
     "output_type": "execute_result"
    }
   ],
   "source": [
    "len(att)\n",
    "    "
   ]
  },
  {
   "cell_type": "code",
   "execution_count": 18,
   "id": "aa50f3a3",
   "metadata": {},
   "outputs": [],
   "source": [
    "from pymongo import MongoClient"
   ]
  },
  {
   "cell_type": "code",
   "execution_count": 19,
   "id": "736eca29",
   "metadata": {},
   "outputs": [],
   "source": [
    "client = MongoClient('mongodb://localhost:27017/')\n",
    "db = client['DAP-Project']\n",
    "infomation=db.Attractions"
   ]
  },
  {
   "cell_type": "code",
   "execution_count": 20,
   "id": "5ffb157f",
   "metadata": {},
   "outputs": [
    {
     "data": {
      "text/plain": [
       "<pymongo.results.InsertManyResult at 0x20a7735cc80>"
      ]
     },
     "execution_count": 20,
     "metadata": {},
     "output_type": "execute_result"
    }
   ],
   "source": [
    " infomation.insert_many(att)"
   ]
  },
  {
   "cell_type": "code",
   "execution_count": null,
   "id": "62a7b81f",
   "metadata": {},
   "outputs": [],
   "source": []
  }
 ],
 "metadata": {
  "kernelspec": {
   "display_name": "Python 3 (ipykernel)",
   "language": "python",
   "name": "python3"
  },
  "language_info": {
   "codemirror_mode": {
    "name": "ipython",
    "version": 3
   },
   "file_extension": ".py",
   "mimetype": "text/x-python",
   "name": "python",
   "nbconvert_exporter": "python",
   "pygments_lexer": "ipython3",
   "version": "3.9.13"
  }
 },
 "nbformat": 4,
 "nbformat_minor": 5
}
