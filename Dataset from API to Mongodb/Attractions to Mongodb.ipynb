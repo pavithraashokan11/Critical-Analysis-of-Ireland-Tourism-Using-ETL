{
 "cells": [
  {
   "cell_type": "code",
   "execution_count": 1,
   "id": "1c794669",
   "metadata": {},
   "outputs": [],
   "source": [
    "import requests"
   ]
  },
  {
   "cell_type": "code",
   "execution_count": 2,
   "id": "0e5fc9b3",
   "metadata": {},
   "outputs": [],
   "source": [
    "url=\"https://failteireland.azure-api.net/opendata-api/v1/attractions\""
   ]
  },
  {
   "cell_type": "code",
   "execution_count": 3,
   "id": "82d271bd",
   "metadata": {},
   "outputs": [],
   "source": [
    "r= requests.get(url)"
   ]
  },
  {
   "cell_type": "code",
   "execution_count": 4,
   "id": "0d2ea6d6",
   "metadata": {},
   "outputs": [
    {
     "name": "stdout",
     "output_type": "stream",
     "text": [
      "<Response [200]>\n"
     ]
    }
   ],
   "source": [
    "print(r)"
   ]
  },
  {
   "cell_type": "code",
   "execution_count": null,
   "id": "e4fb26b2",
   "metadata": {},
   "outputs": [],
   "source": []
  },
  {
   "cell_type": "code",
   "execution_count": 5,
   "id": "d53f745d",
   "metadata": {},
   "outputs": [],
   "source": [
    "data= r.json() #assigns JSON data to variable named data"
   ]
  },
  {
   "cell_type": "code",
   "execution_count": 6,
   "id": "3cf7d8ee",
   "metadata": {},
   "outputs": [
    {
     "name": "stdout",
     "output_type": "stream",
     "text": [
      "1570\n"
     ]
    }
   ],
   "source": [
    "countt=data['count']   #extracts count value from JSON and assigns it to the variable t\n",
    "print(countt)"
   ]
  },
  {
   "cell_type": "code",
   "execution_count": 7,
   "id": "75ef35a0",
   "metadata": {},
   "outputs": [
    {
     "name": "stdout",
     "output_type": "stream",
     "text": [
      "https://failteireland.azure-api.net/opendata-api/v1/attractions?subscription-key=&search=*&$skip=50\n"
     ]
    }
   ],
   "source": [
    "next = data['nextPage']   #retrieves value with key as nextpage and assssigns to variable next\n",
    "print(next)"
   ]
  },
  {
   "cell_type": "code",
   "execution_count": null,
   "id": "30cb25d8",
   "metadata": {},
   "outputs": [],
   "source": []
  },
  {
   "cell_type": "code",
   "execution_count": 8,
   "id": "154294ed",
   "metadata": {
    "scrolled": true
   },
   "outputs": [
    {
     "name": "stdout",
     "output_type": "stream",
     "text": [
      "reuesting url https://failteireland.azure-api.net/opendata-api/v1/attractions?subscription-key=&search=*&$skip=0\n",
      "<Response [200]>\n",
      "reuesting url https://failteireland.azure-api.net/opendata-api/v1/attractions?subscription-key=&search=*&$skip=50\n",
      "<Response [200]>\n",
      "reuesting url https://failteireland.azure-api.net/opendata-api/v1/attractions?subscription-key=&search=*&$skip=100\n",
      "<Response [200]>\n",
      "reuesting url https://failteireland.azure-api.net/opendata-api/v1/attractions?subscription-key=&search=*&$skip=150\n",
      "<Response [200]>\n",
      "reuesting url https://failteireland.azure-api.net/opendata-api/v1/attractions?subscription-key=&search=*&$skip=200\n",
      "<Response [200]>\n",
      "reuesting url https://failteireland.azure-api.net/opendata-api/v1/attractions?subscription-key=&search=*&$skip=250\n",
      "<Response [429]>\n"
     ]
    },
    {
     "ename": "KeyError",
     "evalue": "'results'",
     "output_type": "error",
     "traceback": [
      "\u001b[1;31m---------------------------------------------------------------------------\u001b[0m",
      "\u001b[1;31mKeyError\u001b[0m                                  Traceback (most recent call last)",
      "\u001b[1;32m~\\AppData\\Local\\Temp\\ipykernel_2680\\341978541.py\u001b[0m in \u001b[0;36m<module>\u001b[1;34m\u001b[0m\n\u001b[0;32m     13\u001b[0m     \u001b[0mdata\u001b[0m\u001b[1;33m=\u001b[0m\u001b[0mresponse\u001b[0m\u001b[1;33m.\u001b[0m\u001b[0mjson\u001b[0m\u001b[1;33m(\u001b[0m\u001b[1;33m)\u001b[0m         \u001b[1;31m#retrieves response\u001b[0m\u001b[1;33m\u001b[0m\u001b[1;33m\u001b[0m\u001b[0m\n\u001b[0;32m     14\u001b[0m     \u001b[0mtime\u001b[0m\u001b[1;33m.\u001b[0m\u001b[0msleep\u001b[0m\u001b[1;33m(\u001b[0m\u001b[1;36m5\u001b[0m\u001b[1;33m)\u001b[0m                \u001b[1;31m#function call pauses the execution for 5 seconds\u001b[0m\u001b[1;33m\u001b[0m\u001b[1;33m\u001b[0m\u001b[0m\n\u001b[1;32m---> 15\u001b[1;33m     \u001b[0matt\u001b[0m\u001b[1;33m.\u001b[0m\u001b[0mextend\u001b[0m\u001b[1;33m(\u001b[0m\u001b[0mdata\u001b[0m\u001b[1;33m[\u001b[0m\u001b[1;34m'results'\u001b[0m\u001b[1;33m]\u001b[0m\u001b[1;33m)\u001b[0m  \u001b[1;31m# Add the current page of results to the list of all results\u001b[0m\u001b[1;33m\u001b[0m\u001b[1;33m\u001b[0m\u001b[0m\n\u001b[0m\u001b[0;32m     16\u001b[0m \u001b[1;33m\u001b[0m\u001b[0m\n\u001b[0;32m     17\u001b[0m \u001b[1;33m\u001b[0m\u001b[0m\n",
      "\u001b[1;31mKeyError\u001b[0m: 'results'"
     ]
    }
   ],
   "source": [
    "import time\n",
    "\n",
    "\n",
    "att=[]   #attributes\n",
    "for limit in range(0,500,50):  #loop ranges from 0 to 459 with 50 increment\n",
    "    \n",
    "    \n",
    "    url=f\"https://failteireland.azure-api.net/opendata-api/v1/attractions?subscription-key=&search=*&$skip={limit}\"\n",
    "    \n",
    "    print(\"reuesting url\",url)\n",
    "    response= requests.get(url)  #requesting URL\n",
    "    print(response)\n",
    "    data=response.json()         #retrieves response\n",
    "    time.sleep(5)                #function call pauses the execution for 5 seconds\n",
    "    att.extend(data['results'])  # Add the current page of results to the list of all results\n",
    "\n",
    "    \n",
    "     \n",
    "\n"
   ]
  },
  {
   "cell_type": "code",
   "execution_count": null,
   "id": "6da1778f",
   "metadata": {},
   "outputs": [],
   "source": [
    "len(att)  # no of attributes\n",
    "    "
   ]
  },
  {
   "cell_type": "code",
   "execution_count": null,
   "id": "68fc8caa",
   "metadata": {},
   "outputs": [],
   "source": [
    "import time\n",
    "time.sleep(5)\n",
    "for limit in range(1000,1500,50):\n",
    "    \n",
    "    \n",
    "    url=f\"https://failteireland.azure-api.net/opendata-api/v1/attractions?subscription-key=&search=*&$skip={limit}\"\n",
    "    \n",
    "    print(\"reuesting url\",url)\n",
    "    response= requests.get(url)\n",
    "    data=response.json()\n",
    "    time.sleep(5)\n",
    "    att.extend(data['results'])\n",
    " "
   ]
  },
  {
   "cell_type": "code",
   "execution_count": null,
   "id": "96c887d3",
   "metadata": {},
   "outputs": [],
   "source": [
    "len(att)  "
   ]
  },
  {
   "cell_type": "code",
   "execution_count": null,
   "id": "fd9984a9",
   "metadata": {},
   "outputs": [],
   "source": [
    "import time\n",
    "time.sleep(10)\n",
    "for limit in range(500,750,50):\n",
    "    \n",
    "    \n",
    "    url=f\"https://failteireland.azure-api.net/opendata-api/v1/attractions?subscription-key=&search=*&$skip={limit}\"\n",
    "    \n",
    "    print(\"reuesting url\",url)\n",
    "    response= requests.get(url)\n",
    "    data=response.json()\n",
    "    time.sleep(5)\n",
    "    att.extend(data['results'])\n",
    "    \n",
    "\n"
   ]
  },
  {
   "cell_type": "code",
   "execution_count": null,
   "id": "35e1b771",
   "metadata": {},
   "outputs": [],
   "source": [
    "len(att)\n",
    "    "
   ]
  },
  {
   "cell_type": "code",
   "execution_count": null,
   "id": "a2381ee4",
   "metadata": {},
   "outputs": [],
   "source": [
    "import time\n",
    "time.sleep(10)\n",
    "for limit in range(800,1000,50):\n",
    "    \n",
    "    \n",
    "    url=f\"https://failteireland.azure-api.net/opendata-api/v1/attractions?subscription-key=&search=*&$skip={limit}\"\n",
    "    \n",
    "    print(\"reuesting url\",url)\n",
    "    response= requests.get(url)\n",
    "    data=response.json()\n",
    "    time.sleep(5)\n",
    "    att.extend(data['results'])\n",
    "    "
   ]
  },
  {
   "cell_type": "code",
   "execution_count": null,
   "id": "16813f13",
   "metadata": {},
   "outputs": [],
   "source": [
    "len(att)\n",
    "    "
   ]
  },
  {
   "cell_type": "code",
   "execution_count": null,
   "id": "5a063c91",
   "metadata": {},
   "outputs": [],
   "source": [
    "import time\n",
    "time.sleep(5)\n",
    "for limit in range(1500,1570,50):\n",
    "    \n",
    "    \n",
    "    url=f\"https://failteireland.azure-api.net/opendata-api/v1/attractions?subscription-key=&search=*&$skip={limit}\"\n",
    "    \n",
    "    print(\"reuesting url\",url)\n",
    "    response= requests.get(url)\n",
    "    data=response.json()\n",
    "    att.extend(data['results'])"
   ]
  },
  {
   "cell_type": "code",
   "execution_count": null,
   "id": "b308df80",
   "metadata": {},
   "outputs": [],
   "source": [
    "len(att)\n",
    "    "
   ]
  },
  {
   "cell_type": "code",
   "execution_count": null,
   "id": "aa50f3a3",
   "metadata": {},
   "outputs": [],
   "source": [
    "from pymongo import MongoClient"
   ]
  },
  {
   "cell_type": "code",
   "execution_count": null,
   "id": "736eca29",
   "metadata": {},
   "outputs": [],
   "source": [
    "client = MongoClient('mongodb://localhost:27017/')\n",
    "db = client['DAP-Project']\n",
    "infomation=db.Attractions     # Connect to local MongoDB server and access database and collection\n"
   ]
  },
  {
   "cell_type": "code",
   "execution_count": null,
   "id": "5ffb157f",
   "metadata": {},
   "outputs": [],
   "source": [
    " infomation.insert_many(att)   # Inserting results into MongoDB collection"
   ]
  },
  {
   "cell_type": "code",
   "execution_count": null,
   "id": "62a7b81f",
   "metadata": {},
   "outputs": [],
   "source": []
  }
 ],
 "metadata": {
  "kernelspec": {
   "display_name": "Python 3 (ipykernel)",
   "language": "python",
   "name": "python3"
  },
  "language_info": {
   "codemirror_mode": {
    "name": "ipython",
    "version": 3
   },
   "file_extension": ".py",
   "mimetype": "text/x-python",
   "name": "python",
   "nbconvert_exporter": "python",
   "pygments_lexer": "ipython3",
   "version": "3.9.13"
  }
 },
 "nbformat": 4,
 "nbformat_minor": 5
}
