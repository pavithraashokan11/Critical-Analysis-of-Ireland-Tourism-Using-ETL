{
 "cells": [
  {
   "cell_type": "code",
   "execution_count": 1,
   "id": "ee532117",
   "metadata": {},
   "outputs": [],
   "source": [
    "import requests"
   ]
  },
  {
   "cell_type": "code",
   "execution_count": 2,
   "id": "1bfd8d3d",
   "metadata": {},
   "outputs": [],
   "source": [
    "url=\"https://failteireland.azure-api.net/opendata-api/v1/accommodation\""
   ]
  },
  {
   "cell_type": "code",
   "execution_count": 3,
   "id": "9c5e0a2b",
   "metadata": {},
   "outputs": [],
   "source": [
    "r= requests.get(url)"
   ]
  },
  {
   "cell_type": "code",
   "execution_count": 4,
   "id": "b814bafa",
   "metadata": {},
   "outputs": [],
   "source": [
    "data= r.json()"
   ]
  },
  {
   "cell_type": "code",
   "execution_count": 5,
   "id": "07e3ce90",
   "metadata": {},
   "outputs": [
    {
     "name": "stdout",
     "output_type": "stream",
     "text": [
      "2404\n"
     ]
    }
   ],
   "source": [
    "countt=data['count']\n",
    "print(countt)"
   ]
  },
  {
   "cell_type": "code",
   "execution_count": 6,
   "id": "158eb3e2",
   "metadata": {},
   "outputs": [
    {
     "name": "stdout",
     "output_type": "stream",
     "text": [
      "https://failteireland.azure-api.net/opendata-api/v1/accommodation?subscription-key=&search=*&$skip=50\n"
     ]
    }
   ],
   "source": [
    "next = data['nextPage']\n",
    "print(next)"
   ]
  },
  {
   "cell_type": "code",
   "execution_count": 7,
   "id": "904da105",
   "metadata": {},
   "outputs": [
    {
     "name": "stdout",
     "output_type": "stream",
     "text": [
      "reuesting url https://failteireland.azure-api.net/opendata-api/v1/accommodation?subscription-key=&search=*&$skip=0\n",
      "<Response [200]>\n",
      "reuesting url https://failteireland.azure-api.net/opendata-api/v1/accommodation?subscription-key=&search=*&$skip=50\n",
      "<Response [200]>\n",
      "reuesting url https://failteireland.azure-api.net/opendata-api/v1/accommodation?subscription-key=&search=*&$skip=100\n",
      "<Response [200]>\n",
      "reuesting url https://failteireland.azure-api.net/opendata-api/v1/accommodation?subscription-key=&search=*&$skip=150\n",
      "<Response [200]>\n",
      "reuesting url https://failteireland.azure-api.net/opendata-api/v1/accommodation?subscription-key=&search=*&$skip=200\n",
      "<Response [200]>\n",
      "reuesting url https://failteireland.azure-api.net/opendata-api/v1/accommodation?subscription-key=&search=*&$skip=250\n",
      "<Response [200]>\n",
      "reuesting url https://failteireland.azure-api.net/opendata-api/v1/accommodation?subscription-key=&search=*&$skip=300\n",
      "<Response [200]>\n"
     ]
    }
   ],
   "source": [
    "import time\n",
    "\n",
    "\n",
    "Accomodation1=[]\n",
    "for limit in range(0,350,50):\n",
    "    \n",
    "    \n",
    "    url=f\"https://failteireland.azure-api.net/opendata-api/v1/accommodation?subscription-key=&search=*&$skip={limit}\"\n",
    "    \n",
    "    print(\"reuesting url\",url)\n",
    "    response= requests.get(url)\n",
    "    print(response)\n",
    "    data=response.json()\n",
    "    time.sleep(5)\n",
    "    Accomodation1.extend(data['results'])\n",
    "    \n",
    "     \n"
   ]
  },
  {
   "cell_type": "code",
   "execution_count": 8,
   "id": "5c7e56dc",
   "metadata": {},
   "outputs": [
    {
     "data": {
      "text/plain": [
       "350"
      ]
     },
     "execution_count": 8,
     "metadata": {},
     "output_type": "execute_result"
    }
   ],
   "source": [
    "len(Accomodation1)"
   ]
  },
  {
   "cell_type": "code",
   "execution_count": 9,
   "id": "82c81a8b",
   "metadata": {},
   "outputs": [
    {
     "name": "stdout",
     "output_type": "stream",
     "text": [
      "reuesting url https://failteireland.azure-api.net/opendata-api/v1/accommodation?subscription-key=&search=*&$skip=450\n",
      "<Response [200]>\n",
      "reuesting url https://failteireland.azure-api.net/opendata-api/v1/accommodation?subscription-key=&search=*&$skip=500\n",
      "<Response [200]>\n",
      "reuesting url https://failteireland.azure-api.net/opendata-api/v1/accommodation?subscription-key=&search=*&$skip=550\n",
      "<Response [200]>\n",
      "reuesting url https://failteireland.azure-api.net/opendata-api/v1/accommodation?subscription-key=&search=*&$skip=600\n",
      "<Response [200]>\n",
      "reuesting url https://failteireland.azure-api.net/opendata-api/v1/accommodation?subscription-key=&search=*&$skip=650\n",
      "<Response [200]>\n",
      "reuesting url https://failteireland.azure-api.net/opendata-api/v1/accommodation?subscription-key=&search=*&$skip=700\n",
      "<Response [200]>\n",
      "reuesting url https://failteireland.azure-api.net/opendata-api/v1/accommodation?subscription-key=&search=*&$skip=750\n",
      "<Response [200]>\n",
      "reuesting url https://failteireland.azure-api.net/opendata-api/v1/accommodation?subscription-key=&search=*&$skip=800\n",
      "<Response [200]>\n",
      "reuesting url https://failteireland.azure-api.net/opendata-api/v1/accommodation?subscription-key=&search=*&$skip=850\n",
      "<Response [200]>\n",
      "reuesting url https://failteireland.azure-api.net/opendata-api/v1/accommodation?subscription-key=&search=*&$skip=900\n",
      "<Response [200]>\n",
      "reuesting url https://failteireland.azure-api.net/opendata-api/v1/accommodation?subscription-key=&search=*&$skip=950\n",
      "<Response [200]>\n"
     ]
    }
   ],
   "source": [
    "import time\n",
    "time.sleep(10)\n",
    "\n",
    "Accomodation2=[]\n",
    "for limit in range(450,1000,50):\n",
    "    \n",
    "    \n",
    "    url=f\"https://failteireland.azure-api.net/opendata-api/v1/accommodation?subscription-key=&search=*&$skip={limit}\"\n",
    "    \n",
    "    print(\"reuesting url\",url)\n",
    "    response= requests.get(url)\n",
    "    print(response)\n",
    "    data=response.json()\n",
    "    time.sleep(5)\n",
    "    Accomodation2.extend(data['results'])\n",
    "    \n",
    "    \n"
   ]
  },
  {
   "cell_type": "code",
   "execution_count": 10,
   "id": "52e48d4a",
   "metadata": {},
   "outputs": [
    {
     "data": {
      "text/plain": [
       "550"
      ]
     },
     "execution_count": 10,
     "metadata": {},
     "output_type": "execute_result"
    }
   ],
   "source": [
    "len(Accomodation2)"
   ]
  },
  {
   "cell_type": "code",
   "execution_count": 11,
   "id": "9b0d6807",
   "metadata": {},
   "outputs": [
    {
     "name": "stdout",
     "output_type": "stream",
     "text": [
      "reuesting url https://failteireland.azure-api.net/opendata-api/v1/accommodation?subscription-key=&search=*&$skip=1050\n",
      "<Response [200]>\n",
      "reuesting url https://failteireland.azure-api.net/opendata-api/v1/accommodation?subscription-key=&search=*&$skip=1100\n",
      "<Response [200]>\n",
      "reuesting url https://failteireland.azure-api.net/opendata-api/v1/accommodation?subscription-key=&search=*&$skip=1150\n",
      "<Response [200]>\n",
      "reuesting url https://failteireland.azure-api.net/opendata-api/v1/accommodation?subscription-key=&search=*&$skip=1200\n",
      "<Response [200]>\n",
      "reuesting url https://failteireland.azure-api.net/opendata-api/v1/accommodation?subscription-key=&search=*&$skip=1250\n",
      "<Response [200]>\n",
      "reuesting url https://failteireland.azure-api.net/opendata-api/v1/accommodation?subscription-key=&search=*&$skip=1300\n",
      "<Response [200]>\n",
      "reuesting url https://failteireland.azure-api.net/opendata-api/v1/accommodation?subscription-key=&search=*&$skip=1350\n",
      "<Response [200]>\n",
      "reuesting url https://failteireland.azure-api.net/opendata-api/v1/accommodation?subscription-key=&search=*&$skip=1400\n",
      "<Response [200]>\n",
      "reuesting url https://failteireland.azure-api.net/opendata-api/v1/accommodation?subscription-key=&search=*&$skip=1450\n",
      "<Response [200]>\n",
      "reuesting url https://failteireland.azure-api.net/opendata-api/v1/accommodation?subscription-key=&search=*&$skip=1500\n",
      "<Response [200]>\n",
      "reuesting url https://failteireland.azure-api.net/opendata-api/v1/accommodation?subscription-key=&search=*&$skip=1550\n",
      "<Response [200]>\n",
      "reuesting url https://failteireland.azure-api.net/opendata-api/v1/accommodation?subscription-key=&search=*&$skip=1600\n",
      "<Response [200]>\n",
      "reuesting url https://failteireland.azure-api.net/opendata-api/v1/accommodation?subscription-key=&search=*&$skip=1650\n",
      "<Response [200]>\n",
      "reuesting url https://failteireland.azure-api.net/opendata-api/v1/accommodation?subscription-key=&search=*&$skip=1700\n",
      "<Response [200]>\n",
      "reuesting url https://failteireland.azure-api.net/opendata-api/v1/accommodation?subscription-key=&search=*&$skip=1750\n",
      "<Response [200]>\n",
      "reuesting url https://failteireland.azure-api.net/opendata-api/v1/accommodation?subscription-key=&search=*&$skip=1800\n",
      "<Response [200]>\n",
      "reuesting url https://failteireland.azure-api.net/opendata-api/v1/accommodation?subscription-key=&search=*&$skip=1850\n",
      "<Response [200]>\n",
      "reuesting url https://failteireland.azure-api.net/opendata-api/v1/accommodation?subscription-key=&search=*&$skip=1900\n",
      "<Response [200]>\n",
      "reuesting url https://failteireland.azure-api.net/opendata-api/v1/accommodation?subscription-key=&search=*&$skip=1950\n",
      "<Response [200]>\n",
      "reuesting url https://failteireland.azure-api.net/opendata-api/v1/accommodation?subscription-key=&search=*&$skip=2000\n",
      "<Response [200]>\n",
      "reuesting url https://failteireland.azure-api.net/opendata-api/v1/accommodation?subscription-key=&search=*&$skip=2050\n",
      "<Response [200]>\n",
      "reuesting url https://failteireland.azure-api.net/opendata-api/v1/accommodation?subscription-key=&search=*&$skip=2100\n",
      "<Response [200]>\n",
      "reuesting url https://failteireland.azure-api.net/opendata-api/v1/accommodation?subscription-key=&search=*&$skip=2150\n",
      "<Response [200]>\n",
      "reuesting url https://failteireland.azure-api.net/opendata-api/v1/accommodation?subscription-key=&search=*&$skip=2200\n",
      "<Response [200]>\n",
      "reuesting url https://failteireland.azure-api.net/opendata-api/v1/accommodation?subscription-key=&search=*&$skip=2250\n",
      "<Response [200]>\n",
      "reuesting url https://failteireland.azure-api.net/opendata-api/v1/accommodation?subscription-key=&search=*&$skip=2300\n",
      "<Response [200]>\n",
      "reuesting url https://failteireland.azure-api.net/opendata-api/v1/accommodation?subscription-key=&search=*&$skip=2350\n",
      "<Response [200]>\n",
      "reuesting url https://failteireland.azure-api.net/opendata-api/v1/accommodation?subscription-key=&search=*&$skip=2400\n",
      "<Response [200]>\n"
     ]
    }
   ],
   "source": [
    "import time\n",
    "time.sleep(10)\n",
    "\n",
    "Accomodation3=[]\n",
    "for limit in range(1050,2450,50):\n",
    "    \n",
    "    \n",
    "    url=f\"https://failteireland.azure-api.net/opendata-api/v1/accommodation?subscription-key=&search=*&$skip={limit}\"\n",
    "    \n",
    "    print(\"reuesting url\",url)\n",
    "    response= requests.get(url)\n",
    "    print(response)\n",
    "    data=response.json()\n",
    "    time.sleep(5)\n",
    "    Accomodation3.extend(data['results'])\n",
    "    "
   ]
  },
  {
   "cell_type": "code",
   "execution_count": 12,
   "id": "07277b13",
   "metadata": {},
   "outputs": [
    {
     "data": {
      "text/plain": [
       "1354"
      ]
     },
     "execution_count": 12,
     "metadata": {},
     "output_type": "execute_result"
    }
   ],
   "source": [
    "len(Accomodation3)"
   ]
  },
  {
   "cell_type": "code",
   "execution_count": 13,
   "id": "557ce200",
   "metadata": {},
   "outputs": [],
   "source": [
    "from pymongo import MongoClient"
   ]
  },
  {
   "cell_type": "code",
   "execution_count": 15,
   "id": "00922d56",
   "metadata": {},
   "outputs": [],
   "source": [
    "client = MongoClient('mongodb://localhost:27017/')\n",
    "db = client['DAP-Project']\n",
    "infomation=db.Accommodation"
   ]
  },
  {
   "cell_type": "code",
   "execution_count": 16,
   "id": "488c10c5",
   "metadata": {},
   "outputs": [
    {
     "data": {
      "text/plain": [
       "<pymongo.results.InsertManyResult at 0x17d8a245380>"
      ]
     },
     "execution_count": 16,
     "metadata": {},
     "output_type": "execute_result"
    }
   ],
   "source": [
    "infomation.insert_many(Accomodation1)\n",
    "infomation.insert_many(Accomodation2)\n",
    "infomation.insert_many(Accomodation3)"
   ]
  },
  {
   "cell_type": "code",
   "execution_count": null,
   "id": "8f3ae907",
   "metadata": {},
   "outputs": [],
   "source": []
  }
 ],
 "metadata": {
  "kernelspec": {
   "display_name": "Python 3 (ipykernel)",
   "language": "python",
   "name": "python3"
  },
  "language_info": {
   "codemirror_mode": {
    "name": "ipython",
    "version": 3
   },
   "file_extension": ".py",
   "mimetype": "text/x-python",
   "name": "python",
   "nbconvert_exporter": "python",
   "pygments_lexer": "ipython3",
   "version": "3.9.13"
  }
 },
 "nbformat": 4,
 "nbformat_minor": 5
}
