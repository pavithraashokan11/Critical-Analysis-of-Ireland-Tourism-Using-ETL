{
 "cells": [
  {
   "cell_type": "code",
   "execution_count": 1,
   "id": "9b9bf908",
   "metadata": {},
   "outputs": [],
   "source": [
    "import requests"
   ]
  },
  {
   "cell_type": "code",
   "execution_count": 2,
   "id": "21537877",
   "metadata": {},
   "outputs": [],
   "source": [
    "url=\"https://failteireland.azure-api.net/opendata-api/v1/activities\""
   ]
  },
  {
   "cell_type": "code",
   "execution_count": 3,
   "id": "b84c7474",
   "metadata": {},
   "outputs": [],
   "source": [
    "r= requests.get(url)"
   ]
  },
  {
   "cell_type": "code",
   "execution_count": 4,
   "id": "f86316af",
   "metadata": {},
   "outputs": [],
   "source": [
    "data= r.json()"
   ]
  },
  {
   "cell_type": "code",
   "execution_count": 5,
   "id": "a6214126",
   "metadata": {},
   "outputs": [
    {
     "name": "stdout",
     "output_type": "stream",
     "text": [
      "6113\n"
     ]
    }
   ],
   "source": [
    "countt=data['count']\n",
    "print(countt)"
   ]
  },
  {
   "cell_type": "code",
   "execution_count": 6,
   "id": "1e9b18de",
   "metadata": {},
   "outputs": [
    {
     "name": "stdout",
     "output_type": "stream",
     "text": [
      "https://failteireland.azure-api.net/opendata-api/v1/activities?subscription-key=&search=*&$skip=50\n"
     ]
    }
   ],
   "source": [
    "next = data['nextPage']\n",
    "print(next)"
   ]
  },
  {
   "cell_type": "code",
   "execution_count": 7,
   "id": "376bb319",
   "metadata": {},
   "outputs": [
    {
     "name": "stdout",
     "output_type": "stream",
     "text": [
      "reuesting url https://failteireland.azure-api.net/opendata-api/v1/activities?subscription-key=&search=*&$skip=0\n",
      "<Response [200]>\n",
      "reuesting url https://failteireland.azure-api.net/opendata-api/v1/activities?subscription-key=&search=*&$skip=50\n",
      "<Response [200]>\n",
      "reuesting url https://failteireland.azure-api.net/opendata-api/v1/activities?subscription-key=&search=*&$skip=100\n",
      "<Response [200]>\n",
      "reuesting url https://failteireland.azure-api.net/opendata-api/v1/activities?subscription-key=&search=*&$skip=150\n",
      "<Response [200]>\n",
      "reuesting url https://failteireland.azure-api.net/opendata-api/v1/activities?subscription-key=&search=*&$skip=200\n",
      "<Response [200]>\n",
      "reuesting url https://failteireland.azure-api.net/opendata-api/v1/activities?subscription-key=&search=*&$skip=250\n",
      "<Response [200]>\n",
      "reuesting url https://failteireland.azure-api.net/opendata-api/v1/activities?subscription-key=&search=*&$skip=300\n",
      "<Response [200]>\n",
      "reuesting url https://failteireland.azure-api.net/opendata-api/v1/activities?subscription-key=&search=*&$skip=350\n",
      "<Response [200]>\n",
      "reuesting url https://failteireland.azure-api.net/opendata-api/v1/activities?subscription-key=&search=*&$skip=400\n",
      "<Response [200]>\n",
      "reuesting url https://failteireland.azure-api.net/opendata-api/v1/activities?subscription-key=&search=*&$skip=450\n",
      "<Response [200]>\n",
      "reuesting url https://failteireland.azure-api.net/opendata-api/v1/activities?subscription-key=&search=*&$skip=500\n",
      "<Response [200]>\n",
      "reuesting url https://failteireland.azure-api.net/opendata-api/v1/activities?subscription-key=&search=*&$skip=550\n",
      "<Response [200]>\n",
      "reuesting url https://failteireland.azure-api.net/opendata-api/v1/activities?subscription-key=&search=*&$skip=600\n",
      "<Response [200]>\n",
      "reuesting url https://failteireland.azure-api.net/opendata-api/v1/activities?subscription-key=&search=*&$skip=650\n",
      "<Response [200]>\n",
      "reuesting url https://failteireland.azure-api.net/opendata-api/v1/activities?subscription-key=&search=*&$skip=700\n",
      "<Response [200]>\n",
      "reuesting url https://failteireland.azure-api.net/opendata-api/v1/activities?subscription-key=&search=*&$skip=750\n",
      "<Response [200]>\n",
      "reuesting url https://failteireland.azure-api.net/opendata-api/v1/activities?subscription-key=&search=*&$skip=800\n",
      "<Response [200]>\n",
      "reuesting url https://failteireland.azure-api.net/opendata-api/v1/activities?subscription-key=&search=*&$skip=850\n",
      "<Response [200]>\n",
      "reuesting url https://failteireland.azure-api.net/opendata-api/v1/activities?subscription-key=&search=*&$skip=900\n",
      "<Response [200]>\n",
      "reuesting url https://failteireland.azure-api.net/opendata-api/v1/activities?subscription-key=&search=*&$skip=950\n",
      "<Response [200]>\n",
      "reuesting url https://failteireland.azure-api.net/opendata-api/v1/activities?subscription-key=&search=*&$skip=1000\n",
      "<Response [200]>\n",
      "reuesting url https://failteireland.azure-api.net/opendata-api/v1/activities?subscription-key=&search=*&$skip=1050\n",
      "<Response [200]>\n",
      "reuesting url https://failteireland.azure-api.net/opendata-api/v1/activities?subscription-key=&search=*&$skip=1100\n",
      "<Response [200]>\n",
      "reuesting url https://failteireland.azure-api.net/opendata-api/v1/activities?subscription-key=&search=*&$skip=1150\n",
      "<Response [200]>\n",
      "reuesting url https://failteireland.azure-api.net/opendata-api/v1/activities?subscription-key=&search=*&$skip=1200\n",
      "<Response [200]>\n",
      "reuesting url https://failteireland.azure-api.net/opendata-api/v1/activities?subscription-key=&search=*&$skip=1250\n",
      "<Response [200]>\n",
      "reuesting url https://failteireland.azure-api.net/opendata-api/v1/activities?subscription-key=&search=*&$skip=1300\n",
      "<Response [200]>\n",
      "reuesting url https://failteireland.azure-api.net/opendata-api/v1/activities?subscription-key=&search=*&$skip=1350\n",
      "<Response [200]>\n",
      "reuesting url https://failteireland.azure-api.net/opendata-api/v1/activities?subscription-key=&search=*&$skip=1400\n",
      "<Response [200]>\n",
      "reuesting url https://failteireland.azure-api.net/opendata-api/v1/activities?subscription-key=&search=*&$skip=1450\n",
      "<Response [200]>\n",
      "reuesting url https://failteireland.azure-api.net/opendata-api/v1/activities?subscription-key=&search=*&$skip=1500\n",
      "<Response [200]>\n",
      "reuesting url https://failteireland.azure-api.net/opendata-api/v1/activities?subscription-key=&search=*&$skip=1550\n",
      "<Response [200]>\n",
      "reuesting url https://failteireland.azure-api.net/opendata-api/v1/activities?subscription-key=&search=*&$skip=1600\n",
      "<Response [200]>\n",
      "reuesting url https://failteireland.azure-api.net/opendata-api/v1/activities?subscription-key=&search=*&$skip=1650\n",
      "<Response [200]>\n"
     ]
    }
   ],
   "source": [
    "import time\n",
    "\n",
    "\n",
    "Activities1=[]\n",
    "for limit in range(0,1700,50):\n",
    "    \n",
    "    \n",
    "    url=f\"https://failteireland.azure-api.net/opendata-api/v1/activities?subscription-key=&search=*&$skip={limit}\"\n",
    "    \n",
    "    print(\"reuesting url\",url)\n",
    "    response= requests.get(url)\n",
    "    print(response)\n",
    "    data=response.json()\n",
    "    time.sleep(5)\n",
    "    Activities1.extend(data['results'])\n",
    "    \n",
    "     \n"
   ]
  },
  {
   "cell_type": "code",
   "execution_count": 8,
   "id": "c05777bb",
   "metadata": {},
   "outputs": [
    {
     "name": "stdout",
     "output_type": "stream",
     "text": [
      "reuesting url https://failteireland.azure-api.net/opendata-api/v1/activities?subscription-key=&search=*&$skip=1750\n",
      "<Response [200]>\n",
      "reuesting url https://failteireland.azure-api.net/opendata-api/v1/activities?subscription-key=&search=*&$skip=1800\n",
      "<Response [200]>\n",
      "reuesting url https://failteireland.azure-api.net/opendata-api/v1/activities?subscription-key=&search=*&$skip=1850\n",
      "<Response [200]>\n",
      "reuesting url https://failteireland.azure-api.net/opendata-api/v1/activities?subscription-key=&search=*&$skip=1900\n",
      "<Response [200]>\n",
      "reuesting url https://failteireland.azure-api.net/opendata-api/v1/activities?subscription-key=&search=*&$skip=1950\n",
      "<Response [200]>\n",
      "reuesting url https://failteireland.azure-api.net/opendata-api/v1/activities?subscription-key=&search=*&$skip=2000\n",
      "<Response [200]>\n",
      "reuesting url https://failteireland.azure-api.net/opendata-api/v1/activities?subscription-key=&search=*&$skip=2050\n",
      "<Response [200]>\n",
      "reuesting url https://failteireland.azure-api.net/opendata-api/v1/activities?subscription-key=&search=*&$skip=2100\n",
      "<Response [200]>\n",
      "reuesting url https://failteireland.azure-api.net/opendata-api/v1/activities?subscription-key=&search=*&$skip=2150\n",
      "<Response [200]>\n"
     ]
    }
   ],
   "source": [
    "import time\n",
    "time.sleep(10)\n",
    "\n",
    "Activities2=[]\n",
    "for limit in range(1750,2200,50):\n",
    "    \n",
    "    \n",
    "    url=f\"https://failteireland.azure-api.net/opendata-api/v1/activities?subscription-key=&search=*&$skip={limit}\"\n",
    "    \n",
    "    print(\"reuesting url\",url)\n",
    "    response= requests.get(url)\n",
    "    print(response)\n",
    "    data=response.json()\n",
    "    time.sleep(5)\n",
    "    Activities2.extend(data['results'])\n",
    "    \n",
    "     \n"
   ]
  },
  {
   "cell_type": "code",
   "execution_count": 9,
   "id": "7fe40dcd",
   "metadata": {},
   "outputs": [
    {
     "name": "stdout",
     "output_type": "stream",
     "text": [
      "reuesting url https://failteireland.azure-api.net/opendata-api/v1/activities?subscription-key=&search=*&$skip=2250\n",
      "<Response [200]>\n",
      "reuesting url https://failteireland.azure-api.net/opendata-api/v1/activities?subscription-key=&search=*&$skip=2300\n",
      "<Response [200]>\n",
      "reuesting url https://failteireland.azure-api.net/opendata-api/v1/activities?subscription-key=&search=*&$skip=2350\n",
      "<Response [200]>\n",
      "reuesting url https://failteireland.azure-api.net/opendata-api/v1/activities?subscription-key=&search=*&$skip=2400\n",
      "<Response [200]>\n",
      "reuesting url https://failteireland.azure-api.net/opendata-api/v1/activities?subscription-key=&search=*&$skip=2450\n",
      "<Response [200]>\n",
      "reuesting url https://failteireland.azure-api.net/opendata-api/v1/activities?subscription-key=&search=*&$skip=2500\n",
      "<Response [200]>\n",
      "reuesting url https://failteireland.azure-api.net/opendata-api/v1/activities?subscription-key=&search=*&$skip=2550\n",
      "<Response [200]>\n",
      "reuesting url https://failteireland.azure-api.net/opendata-api/v1/activities?subscription-key=&search=*&$skip=2600\n",
      "<Response [200]>\n",
      "reuesting url https://failteireland.azure-api.net/opendata-api/v1/activities?subscription-key=&search=*&$skip=2650\n",
      "<Response [200]>\n",
      "reuesting url https://failteireland.azure-api.net/opendata-api/v1/activities?subscription-key=&search=*&$skip=2700\n",
      "<Response [200]>\n",
      "reuesting url https://failteireland.azure-api.net/opendata-api/v1/activities?subscription-key=&search=*&$skip=2750\n",
      "<Response [200]>\n",
      "reuesting url https://failteireland.azure-api.net/opendata-api/v1/activities?subscription-key=&search=*&$skip=2800\n",
      "<Response [200]>\n",
      "reuesting url https://failteireland.azure-api.net/opendata-api/v1/activities?subscription-key=&search=*&$skip=2850\n",
      "<Response [200]>\n",
      "reuesting url https://failteireland.azure-api.net/opendata-api/v1/activities?subscription-key=&search=*&$skip=2900\n",
      "<Response [200]>\n"
     ]
    }
   ],
   "source": [
    "import time\n",
    "time.sleep(10)\n",
    "\n",
    "Activities3=[]\n",
    "for limit in range(2250,2950,50):\n",
    "    \n",
    "    \n",
    "    url=f\"https://failteireland.azure-api.net/opendata-api/v1/activities?subscription-key=&search=*&$skip={limit}\"\n",
    "    \n",
    "    print(\"reuesting url\",url)\n",
    "    response= requests.get(url)\n",
    "    print(response)\n",
    "    data=response.json()\n",
    "    time.sleep(5)\n",
    "    Activities3.extend(data['results'])\n",
    "    \n",
    "     \n"
   ]
  },
  {
   "cell_type": "code",
   "execution_count": 10,
   "id": "cdcb965c",
   "metadata": {},
   "outputs": [
    {
     "name": "stdout",
     "output_type": "stream",
     "text": [
      "reuesting url https://failteireland.azure-api.net/opendata-api/v1/activities?subscription-key=&search=*&$skip=3000\n",
      "<Response [200]>\n",
      "reuesting url https://failteireland.azure-api.net/opendata-api/v1/activities?subscription-key=&search=*&$skip=3050\n",
      "<Response [200]>\n",
      "reuesting url https://failteireland.azure-api.net/opendata-api/v1/activities?subscription-key=&search=*&$skip=3100\n",
      "<Response [200]>\n",
      "reuesting url https://failteireland.azure-api.net/opendata-api/v1/activities?subscription-key=&search=*&$skip=3150\n",
      "<Response [200]>\n",
      "reuesting url https://failteireland.azure-api.net/opendata-api/v1/activities?subscription-key=&search=*&$skip=3200\n",
      "<Response [200]>\n",
      "reuesting url https://failteireland.azure-api.net/opendata-api/v1/activities?subscription-key=&search=*&$skip=3250\n",
      "<Response [200]>\n",
      "reuesting url https://failteireland.azure-api.net/opendata-api/v1/activities?subscription-key=&search=*&$skip=3300\n",
      "<Response [200]>\n",
      "reuesting url https://failteireland.azure-api.net/opendata-api/v1/activities?subscription-key=&search=*&$skip=3350\n",
      "<Response [200]>\n",
      "reuesting url https://failteireland.azure-api.net/opendata-api/v1/activities?subscription-key=&search=*&$skip=3400\n",
      "<Response [200]>\n",
      "reuesting url https://failteireland.azure-api.net/opendata-api/v1/activities?subscription-key=&search=*&$skip=3450\n",
      "<Response [200]>\n",
      "reuesting url https://failteireland.azure-api.net/opendata-api/v1/activities?subscription-key=&search=*&$skip=3500\n",
      "<Response [200]>\n"
     ]
    }
   ],
   "source": [
    "import time\n",
    "time.sleep(10)\n",
    "\n",
    "Activities4=[]\n",
    "for limit in range(3000,3550,50):\n",
    "    \n",
    "    \n",
    "    url=f\"https://failteireland.azure-api.net/opendata-api/v1/activities?subscription-key=&search=*&$skip={limit}\"\n",
    "    \n",
    "    print(\"reuesting url\",url)\n",
    "    response= requests.get(url)\n",
    "    print(response)\n",
    "    data=response.json()\n",
    "    time.sleep(5)\n",
    "    Activities4.extend(data['results'])\n",
    "    \n",
    "     \n"
   ]
  },
  {
   "cell_type": "code",
   "execution_count": 11,
   "id": "262a32af",
   "metadata": {},
   "outputs": [
    {
     "name": "stdout",
     "output_type": "stream",
     "text": [
      "reuesting url https://failteireland.azure-api.net/opendata-api/v1/activities?subscription-key=&search=*&$skip=3600\n",
      "<Response [200]>\n",
      "reuesting url https://failteireland.azure-api.net/opendata-api/v1/activities?subscription-key=&search=*&$skip=3650\n",
      "<Response [200]>\n",
      "reuesting url https://failteireland.azure-api.net/opendata-api/v1/activities?subscription-key=&search=*&$skip=3700\n",
      "<Response [200]>\n",
      "reuesting url https://failteireland.azure-api.net/opendata-api/v1/activities?subscription-key=&search=*&$skip=3750\n",
      "<Response [200]>\n",
      "reuesting url https://failteireland.azure-api.net/opendata-api/v1/activities?subscription-key=&search=*&$skip=3800\n",
      "<Response [200]>\n",
      "reuesting url https://failteireland.azure-api.net/opendata-api/v1/activities?subscription-key=&search=*&$skip=3850\n",
      "<Response [200]>\n",
      "reuesting url https://failteireland.azure-api.net/opendata-api/v1/activities?subscription-key=&search=*&$skip=3900\n",
      "<Response [200]>\n",
      "reuesting url https://failteireland.azure-api.net/opendata-api/v1/activities?subscription-key=&search=*&$skip=3950\n",
      "<Response [200]>\n"
     ]
    }
   ],
   "source": [
    "import time\n",
    "time.sleep(10)\n",
    "\n",
    "Activities5=[]\n",
    "for limit in range(3600,4000,50):\n",
    "    \n",
    "    \n",
    "    url=f\"https://failteireland.azure-api.net/opendata-api/v1/activities?subscription-key=&search=*&$skip={limit}\"\n",
    "    \n",
    "    print(\"reuesting url\",url)\n",
    "    response= requests.get(url)\n",
    "    print(response)\n",
    "    data=response.json()\n",
    "    time.sleep(5)\n",
    "    Activities5.extend(data['results'])\n",
    "    \n",
    "     \n"
   ]
  },
  {
   "cell_type": "code",
   "execution_count": 12,
   "id": "00861ad1",
   "metadata": {},
   "outputs": [
    {
     "name": "stdout",
     "output_type": "stream",
     "text": [
      "reuesting url https://failteireland.azure-api.net/opendata-api/v1/activities?subscription-key=&search=*&$skip=4050\n",
      "<Response [200]>\n",
      "reuesting url https://failteireland.azure-api.net/opendata-api/v1/activities?subscription-key=&search=*&$skip=4100\n",
      "<Response [200]>\n",
      "reuesting url https://failteireland.azure-api.net/opendata-api/v1/activities?subscription-key=&search=*&$skip=4150\n",
      "<Response [200]>\n",
      "reuesting url https://failteireland.azure-api.net/opendata-api/v1/activities?subscription-key=&search=*&$skip=4200\n",
      "<Response [200]>\n"
     ]
    }
   ],
   "source": [
    "import time\n",
    "time.sleep(10)\n",
    "\n",
    "Activities6=[]\n",
    "for limit in range(4050,4250,50):\n",
    "    \n",
    "    \n",
    "    url=f\"https://failteireland.azure-api.net/opendata-api/v1/activities?subscription-key=&search=*&$skip={limit}\"\n",
    "    \n",
    "    print(\"reuesting url\",url)\n",
    "    response= requests.get(url)\n",
    "    print(response)\n",
    "    data=response.json()\n",
    "    time.sleep(5)\n",
    "    Activities6.extend(data['results'])\n",
    "    \n",
    "     \n"
   ]
  },
  {
   "cell_type": "code",
   "execution_count": 13,
   "id": "d0fd9715",
   "metadata": {},
   "outputs": [
    {
     "name": "stdout",
     "output_type": "stream",
     "text": [
      "reuesting url https://failteireland.azure-api.net/opendata-api/v1/activities?subscription-key=&search=*&$skip=4300\n",
      "<Response [200]>\n",
      "reuesting url https://failteireland.azure-api.net/opendata-api/v1/activities?subscription-key=&search=*&$skip=4350\n",
      "<Response [200]>\n",
      "reuesting url https://failteireland.azure-api.net/opendata-api/v1/activities?subscription-key=&search=*&$skip=4400\n",
      "<Response [200]>\n",
      "reuesting url https://failteireland.azure-api.net/opendata-api/v1/activities?subscription-key=&search=*&$skip=4450\n",
      "<Response [200]>\n",
      "reuesting url https://failteireland.azure-api.net/opendata-api/v1/activities?subscription-key=&search=*&$skip=4500\n",
      "<Response [200]>\n",
      "reuesting url https://failteireland.azure-api.net/opendata-api/v1/activities?subscription-key=&search=*&$skip=4550\n",
      "<Response [200]>\n",
      "reuesting url https://failteireland.azure-api.net/opendata-api/v1/activities?subscription-key=&search=*&$skip=4600\n",
      "<Response [200]>\n",
      "reuesting url https://failteireland.azure-api.net/opendata-api/v1/activities?subscription-key=&search=*&$skip=4650\n",
      "<Response [200]>\n",
      "reuesting url https://failteireland.azure-api.net/opendata-api/v1/activities?subscription-key=&search=*&$skip=4700\n",
      "<Response [200]>\n",
      "reuesting url https://failteireland.azure-api.net/opendata-api/v1/activities?subscription-key=&search=*&$skip=4750\n",
      "<Response [200]>\n",
      "reuesting url https://failteireland.azure-api.net/opendata-api/v1/activities?subscription-key=&search=*&$skip=4800\n",
      "<Response [200]>\n",
      "reuesting url https://failteireland.azure-api.net/opendata-api/v1/activities?subscription-key=&search=*&$skip=4850\n",
      "<Response [200]>\n",
      "reuesting url https://failteireland.azure-api.net/opendata-api/v1/activities?subscription-key=&search=*&$skip=4900\n",
      "<Response [200]>\n",
      "reuesting url https://failteireland.azure-api.net/opendata-api/v1/activities?subscription-key=&search=*&$skip=4950\n",
      "<Response [200]>\n",
      "reuesting url https://failteireland.azure-api.net/opendata-api/v1/activities?subscription-key=&search=*&$skip=5000\n",
      "<Response [200]>\n",
      "reuesting url https://failteireland.azure-api.net/opendata-api/v1/activities?subscription-key=&search=*&$skip=5050\n",
      "<Response [200]>\n",
      "reuesting url https://failteireland.azure-api.net/opendata-api/v1/activities?subscription-key=&search=*&$skip=5100\n",
      "<Response [200]>\n",
      "reuesting url https://failteireland.azure-api.net/opendata-api/v1/activities?subscription-key=&search=*&$skip=5150\n",
      "<Response [200]>\n",
      "reuesting url https://failteireland.azure-api.net/opendata-api/v1/activities?subscription-key=&search=*&$skip=5200\n",
      "<Response [200]>\n",
      "reuesting url https://failteireland.azure-api.net/opendata-api/v1/activities?subscription-key=&search=*&$skip=5250\n",
      "<Response [200]>\n",
      "reuesting url https://failteireland.azure-api.net/opendata-api/v1/activities?subscription-key=&search=*&$skip=5300\n",
      "<Response [200]>\n",
      "reuesting url https://failteireland.azure-api.net/opendata-api/v1/activities?subscription-key=&search=*&$skip=5350\n",
      "<Response [200]>\n",
      "reuesting url https://failteireland.azure-api.net/opendata-api/v1/activities?subscription-key=&search=*&$skip=5400\n",
      "<Response [200]>\n",
      "reuesting url https://failteireland.azure-api.net/opendata-api/v1/activities?subscription-key=&search=*&$skip=5450\n",
      "<Response [200]>\n",
      "reuesting url https://failteireland.azure-api.net/opendata-api/v1/activities?subscription-key=&search=*&$skip=5500\n",
      "<Response [200]>\n",
      "reuesting url https://failteireland.azure-api.net/opendata-api/v1/activities?subscription-key=&search=*&$skip=5550\n",
      "<Response [200]>\n",
      "reuesting url https://failteireland.azure-api.net/opendata-api/v1/activities?subscription-key=&search=*&$skip=5600\n",
      "<Response [200]>\n",
      "reuesting url https://failteireland.azure-api.net/opendata-api/v1/activities?subscription-key=&search=*&$skip=5650\n",
      "<Response [200]>\n",
      "reuesting url https://failteireland.azure-api.net/opendata-api/v1/activities?subscription-key=&search=*&$skip=5700\n",
      "<Response [200]>\n",
      "reuesting url https://failteireland.azure-api.net/opendata-api/v1/activities?subscription-key=&search=*&$skip=5750\n",
      "<Response [200]>\n",
      "reuesting url https://failteireland.azure-api.net/opendata-api/v1/activities?subscription-key=&search=*&$skip=5800\n",
      "<Response [200]>\n",
      "reuesting url https://failteireland.azure-api.net/opendata-api/v1/activities?subscription-key=&search=*&$skip=5850\n",
      "<Response [200]>\n",
      "reuesting url https://failteireland.azure-api.net/opendata-api/v1/activities?subscription-key=&search=*&$skip=5900\n",
      "<Response [200]>\n",
      "reuesting url https://failteireland.azure-api.net/opendata-api/v1/activities?subscription-key=&search=*&$skip=5950\n",
      "<Response [200]>\n",
      "reuesting url https://failteireland.azure-api.net/opendata-api/v1/activities?subscription-key=&search=*&$skip=6000\n",
      "<Response [200]>\n",
      "reuesting url https://failteireland.azure-api.net/opendata-api/v1/activities?subscription-key=&search=*&$skip=6050\n",
      "<Response [200]>\n",
      "reuesting url https://failteireland.azure-api.net/opendata-api/v1/activities?subscription-key=&search=*&$skip=6100\n",
      "<Response [200]>\n"
     ]
    }
   ],
   "source": [
    "import time\n",
    "time.sleep(10)\n",
    "\n",
    "Activities7=[]\n",
    "for limit in range(4300,6150,50):\n",
    "    \n",
    "    \n",
    "    url=f\"https://failteireland.azure-api.net/opendata-api/v1/activities?subscription-key=&search=*&$skip={limit}\"\n",
    "    \n",
    "    print(\"reuesting url\",url)\n",
    "    response= requests.get(url)\n",
    "    print(response)\n",
    "    data=response.json()\n",
    "    time.sleep(5)\n",
    "    Activities7.extend(data['results'])\n",
    "    \n",
    "     \n"
   ]
  },
  {
   "cell_type": "code",
   "execution_count": null,
   "id": "b294a3b8",
   "metadata": {},
   "outputs": [],
   "source": []
  },
  {
   "cell_type": "code",
   "execution_count": 14,
   "id": "b8b19143",
   "metadata": {},
   "outputs": [],
   "source": [
    "from pymongo import MongoClient"
   ]
  },
  {
   "cell_type": "code",
   "execution_count": 15,
   "id": "8336b010",
   "metadata": {},
   "outputs": [],
   "source": [
    "client = MongoClient('mongodb://localhost:27017/')\n",
    "db = client['DAP-Project']\n",
    "infomation=db.Activities"
   ]
  },
  {
   "cell_type": "code",
   "execution_count": 16,
   "id": "9e39a7d7",
   "metadata": {},
   "outputs": [
    {
     "data": {
      "text/plain": [
       "<pymongo.results.InsertManyResult at 0x2150474f2c0>"
      ]
     },
     "execution_count": 16,
     "metadata": {},
     "output_type": "execute_result"
    }
   ],
   "source": [
    "infomation.insert_many(Activities1)\n",
    "infomation.insert_many(Activities2)\n",
    "infomation.insert_many(Activities3)\n",
    "infomation.insert_many(Activities4)\n",
    "infomation.insert_many(Activities5)\n",
    "infomation.insert_many(Activities6)\n",
    "infomation.insert_many(Activities7)"
   ]
  }
 ],
 "metadata": {
  "kernelspec": {
   "display_name": "Python 3 (ipykernel)",
   "language": "python",
   "name": "python3"
  },
  "language_info": {
   "codemirror_mode": {
    "name": "ipython",
    "version": 3
   },
   "file_extension": ".py",
   "mimetype": "text/x-python",
   "name": "python",
   "nbconvert_exporter": "python",
   "pygments_lexer": "ipython3",
   "version": "3.9.13"
  }
 },
 "nbformat": 4,
 "nbformat_minor": 5
}
