{
 "cells": [
  {
   "cell_type": "code",
   "execution_count": 1,
   "id": "9b9bf908",
   "metadata": {},
   "outputs": [],
   "source": [
    "import requests #Library used to fetch data from API "
   ]
  },
  {
   "cell_type": "code",
   "execution_count": 2,
   "id": "21537877",
   "metadata": {},
   "outputs": [],
   "source": [
    "#url of API\n",
    "url=\"https://failteireland.azure-api.net/opendata-api/v1/activities\""
   ]
  },
  {
   "cell_type": "code",
   "execution_count": 3,
   "id": "b84c7474",
   "metadata": {},
   "outputs": [],
   "source": [
    "r= requests.get(url)"
   ]
  },
  {
   "cell_type": "code",
   "execution_count": 4,
   "id": "f86316af",
   "metadata": {},
   "outputs": [],
   "source": [
    "data= r.json()  "
   ]
  },
  {
   "cell_type": "code",
   "execution_count": 5,
   "id": "a6214126",
   "metadata": {},
   "outputs": [
    {
     "name": "stdout",
     "output_type": "stream",
     "text": [
      "No of records to be fetch are 6112\n"
     ]
    }
   ],
   "source": [
    "countt=data['count']\n",
    "print(\"No of records to be fetch are\",countt)"
   ]
  },
  {
   "cell_type": "code",
   "execution_count": 6,
   "id": "1e9b18de",
   "metadata": {},
   "outputs": [
    {
     "name": "stdout",
     "output_type": "stream",
     "text": [
      "next page is  https://failteireland.azure-api.net/opendata-api/v1/activities?subscription-key=&search=*&$skip=50\n"
     ]
    }
   ],
   "source": [
    "#fetching next page url to use it for getting data from web and further pagination.\n",
    "next = data['nextPage']\n",
    "print(\"next page is \",next)"
   ]
  },
  {
   "cell_type": "code",
   "execution_count": 7,
   "id": "376bb319",
   "metadata": {},
   "outputs": [
    {
     "name": "stdout",
     "output_type": "stream",
     "text": [
      "Done\n"
     ]
    }
   ],
   "source": [
    "#here a for loop is created which is fetching valuse from api.\n",
    "#for loop is used as it is a limited API with some bad json files in middle.\n",
    "import time\n",
    "\n",
    "\n",
    "Activities1=[]\n",
    "for limit in range(0,1700,50):\n",
    "    \n",
    "    \n",
    "    url=f\"https://failteireland.azure-api.net/opendata-api/v1/activities?subscription-key=&search=*&$skip={limit}\"\n",
    "    \n",
    "    ##print(\"reuesting url\",url)  this code is commented becuase it is used to check which url is not able to fetch.\n",
    "    response= requests.get(url)\n",
    "    ##print(response)  this has the response code of server ie. 200\n",
    "    data=response.json()  ##loading the fetched json \n",
    "    time.sleep(5) # sleep function is used to breakdown and give server some time.\n",
    "    Activities1.extend(data['results'])  #result data is stored in Activities.\n",
    "    \n",
    "print(\"Done\")\n"
   ]
  },
  {
   "cell_type": "code",
   "execution_count": 8,
   "id": "c05777bb",
   "metadata": {},
   "outputs": [
    {
     "name": "stdout",
     "output_type": "stream",
     "text": [
      "Done\n"
     ]
    }
   ],
   "source": [
    "import time\n",
    "time.sleep(10)\n",
    "\n",
    "Activities2=[]\n",
    "for limit in range(1750,2200,50):\n",
    "    \n",
    "    \n",
    "    url=f\"https://failteireland.azure-api.net/opendata-api/v1/activities?subscription-key=&search=*&$skip={limit}\"\n",
    "    \n",
    "   # print(\"reuesting url\",url)\n",
    "    response= requests.get(url)\n",
    "   # print(response)\n",
    "    data=response.json()\n",
    "    time.sleep(5)\n",
    "    Activities2.extend(data['results'])\n",
    "    \n",
    "print(\"Done\")\n",
    "  \n"
   ]
  },
  {
   "cell_type": "code",
   "execution_count": 9,
   "id": "7fe40dcd",
   "metadata": {},
   "outputs": [
    {
     "name": "stdout",
     "output_type": "stream",
     "text": [
      "Done\n"
     ]
    }
   ],
   "source": [
    "import time\n",
    "time.sleep(10)\n",
    "\n",
    "Activities3=[]\n",
    "for limit in range(2250,2950,50):\n",
    "    \n",
    "    \n",
    "    url=f\"https://failteireland.azure-api.net/opendata-api/v1/activities?subscription-key=&search=*&$skip={limit}\"\n",
    "    \n",
    "   # print(\"reuesting url\",url)\n",
    "    response= requests.get(url)\n",
    "   # print(response)\n",
    "    data=response.json()\n",
    "    time.sleep(5)\n",
    "    Activities3.extend(data['results'])\n",
    "    \n",
    "     \n",
    "print(\"Done\")\n"
   ]
  },
  {
   "cell_type": "code",
   "execution_count": 10,
   "id": "cdcb965c",
   "metadata": {},
   "outputs": [
    {
     "name": "stdout",
     "output_type": "stream",
     "text": [
      "Done\n"
     ]
    }
   ],
   "source": [
    "import time\n",
    "time.sleep(10)\n",
    "\n",
    "Activities4=[]\n",
    "for limit in range(3000,3550,50):\n",
    "    \n",
    "    \n",
    "    url=f\"https://failteireland.azure-api.net/opendata-api/v1/activities?subscription-key=&search=*&$skip={limit}\"\n",
    "    \n",
    "   # print(\"reuesting url\",url)\n",
    "    response= requests.get(url)\n",
    "   # print(response)\n",
    "    data=response.json()\n",
    "    time.sleep(5)\n",
    "    Activities4.extend(data['results'])\n",
    "    \n",
    "print(\"Done\")\n",
    "    \n"
   ]
  },
  {
   "cell_type": "code",
   "execution_count": 11,
   "id": "262a32af",
   "metadata": {},
   "outputs": [
    {
     "name": "stdout",
     "output_type": "stream",
     "text": [
      "Done\n"
     ]
    }
   ],
   "source": [
    "import time\n",
    "time.sleep(10)\n",
    "\n",
    "Activities5=[]\n",
    "for limit in range(3600,3950,50):\n",
    "    \n",
    "    \n",
    "    url=f\"https://failteireland.azure-api.net/opendata-api/v1/activities?subscription-key=&search=*&$skip={limit}\"\n",
    "    \n",
    "    #print(\"reuesting url\",url)\n",
    "    response= requests.get(url)\n",
    "    #print(response)\n",
    "    data=response.json()\n",
    "    time.sleep(5)\n",
    "    Activities5.extend(data['results'])\n",
    "    \n",
    "print(\"Done\")  \n"
   ]
  },
  {
   "cell_type": "code",
   "execution_count": 12,
   "id": "00861ad1",
   "metadata": {},
   "outputs": [
    {
     "name": "stdout",
     "output_type": "stream",
     "text": [
      "Done\n"
     ]
    }
   ],
   "source": [
    "import time\n",
    "time.sleep(10)\n",
    "\n",
    "Activities6=[]\n",
    "for limit in range(4000,4250,50):\n",
    "    \n",
    "    \n",
    "    url=f\"https://failteireland.azure-api.net/opendata-api/v1/activities?subscription-key=&search=*&$skip={limit}\"\n",
    "    \n",
    "   # print(\"reuesting url\",url)\n",
    "    response= requests.get(url)\n",
    "   # print(response)\n",
    "    data=response.json()\n",
    "    time.sleep(5)\n",
    "    Activities6.extend(data['results'])\n",
    "print(\"Done\")\n",
    "   \n",
    "     \n"
   ]
  },
  {
   "cell_type": "code",
   "execution_count": 13,
   "id": "d0fd9715",
   "metadata": {},
   "outputs": [
    {
     "name": "stdout",
     "output_type": "stream",
     "text": [
      "Done\n"
     ]
    }
   ],
   "source": [
    "import time\n",
    "time.sleep(10)\n",
    "\n",
    "Activities7=[]\n",
    "for limit in range(4300,6150,50):\n",
    "    \n",
    "    \n",
    "    url=f\"https://failteireland.azure-api.net/opendata-api/v1/activities?subscription-key=&search=*&$skip={limit}\"\n",
    "    \n",
    "   # print(\"reuesting url\",url)\n",
    "    response= requests.get(url)\n",
    "   # print(response)\n",
    "    data=response.json()\n",
    "    time.sleep(5)\n",
    "    Activities7.extend(data['results'])\n",
    "    \n",
    "     \n",
    "print(\"Done\")\n"
   ]
  },
  {
   "cell_type": "code",
   "execution_count": 14,
   "id": "b8b19143",
   "metadata": {},
   "outputs": [],
   "source": [
    "from pymongo import MongoClient #load MongoClient to connect to MongoDB "
   ]
  },
  {
   "cell_type": "code",
   "execution_count": 15,
   "id": "8336b010",
   "metadata": {},
   "outputs": [],
   "source": [
    "#Connection to MongoDB\n",
    "client = MongoClient('mongodb://localhost:27017/')\n",
    "db = client['DAP-Project']\n",
    "\n",
    "#Creating a new collection \n",
    "infomation=db.Activities"
   ]
  },
  {
   "cell_type": "code",
   "execution_count": 16,
   "id": "9e39a7d7",
   "metadata": {},
   "outputs": [
    {
     "data": {
      "text/plain": [
       "<pymongo.results.InsertManyResult at 0x2d42d00ca60>"
      ]
     },
     "execution_count": 16,
     "metadata": {},
     "output_type": "execute_result"
    }
   ],
   "source": [
    "#stroring data to MongoDB\n",
    "infomation.insert_many(Activities1)\n",
    "infomation.insert_many(Activities2)\n",
    "infomation.insert_many(Activities3)\n",
    "infomation.insert_many(Activities4)\n",
    "infomation.insert_many(Activities5)\n",
    "infomation.insert_many(Activities6)\n",
    "infomation.insert_many(Activities7)"
   ]
  },
  {
   "cell_type": "code",
   "execution_count": 17,
   "id": "cefb2b35",
   "metadata": {},
   "outputs": [
    {
     "name": "stdout",
     "output_type": "stream",
     "text": [
      "Data is stored to MongoDB\n"
     ]
    }
   ],
   "source": [
    "print(\"Data is stored to MongoDB\")"
   ]
  },
  {
   "cell_type": "code",
   "execution_count": null,
   "id": "59e8e155",
   "metadata": {},
   "outputs": [],
   "source": []
  }
 ],
 "metadata": {
  "kernelspec": {
   "display_name": "Python 3 (ipykernel)",
   "language": "python",
   "name": "python3"
  },
  "language_info": {
   "codemirror_mode": {
    "name": "ipython",
    "version": 3
   },
   "file_extension": ".py",
   "mimetype": "text/x-python",
   "name": "python",
   "nbconvert_exporter": "python",
   "pygments_lexer": "ipython3",
   "version": "3.9.13"
  }
 },
 "nbformat": 4,
 "nbformat_minor": 5
}
